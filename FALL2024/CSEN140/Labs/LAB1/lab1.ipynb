{
 "cells": [
  {
   "cell_type": "markdown",
   "metadata": {},
   "source": [
    "**Lab 1 Austin Nguyen**\n",
    "\n",
    "\n",
    "Friday 2:15 PM \n",
    "\n",
    "\n",
    "September 27, 2024\n"
   ]
  },
  {
   "cell_type": "code",
   "execution_count": 1,
   "metadata": {},
   "outputs": [
    {
     "name": "stdout",
     "output_type": "stream",
     "text": [
      "[1, 3, 5, 7, 9, 11, 13, 15, 17]\n",
      "[1, 3, 5, 7]\n",
      "[1, 3, 5, 7, 9, 11, 13, 15, 17, 19, 21]\n"
     ]
    }
   ],
   "source": [
    "def get_odd(n):\n",
    "    return [i for i in range(n + 1) if i % 2 != 0]\n",
    "\n",
    "\n",
    "print (get_odd(18))\n",
    "print (get_odd(7))\n",
    "print (get_odd(21))"
   ]
  },
  {
   "cell_type": "markdown",
   "metadata": {},
   "source": [
    "**Part 1**\n",
    "function that takes argument, n, and prints out the odd numbers between 0 and n"
   ]
  },
  {
   "cell_type": "code",
   "execution_count": 2,
   "metadata": {},
   "outputs": [
    {
     "name": "stdout",
     "output_type": "stream",
     "text": [
      "[['Daniel', '21', 'MECH'], ['Joe', '23', 'BIOE'], ['Mike', '22', 'CSEN'], ['Ryan', '19', 'ELEN'], ['Shannon', '18', 'AMTH']]\n",
      "[['Shannon', '18', 'AMTH'], ['Ryan', '19', 'ELEN'], ['Daniel', '21', 'MECH'], ['Mike', '22', 'CSEN'], ['Joe', '23', 'BIOE']]\n"
     ]
    }
   ],
   "source": [
    "def readCvs(filepath):\n",
    "    data = []\n",
    "    with open(filepath, 'r') as file:\n",
    "        for line in file.readlines():\n",
    "            data.append(line.strip().split(','))\n",
    "    return data\n",
    "\n",
    "sData = readCvs('students.csv')\n",
    "\n",
    "print(sorted(sData))\n",
    "print(sorted(sData, key=lambda x:x[1]))"
   ]
  },
  {
   "cell_type": "markdown",
   "metadata": {},
   "source": [
    "**Part 2**\n",
    "function that reads file \"students.csv\" and sorts the students in alphabetical order by 1st name. Also for the bonus, organizes it by ages"
   ]
  },
  {
   "cell_type": "code",
   "execution_count": 3,
   "metadata": {},
   "outputs": [
    {
     "name": "stdout",
     "output_type": "stream",
     "text": [
      "k\n",
      "e\n"
     ]
    }
   ],
   "source": [
    "def frequency(str):\n",
    "    letters ={}\n",
    "    for char in str:\n",
    "        letters[char] = letters.get(char, 0) + 1\n",
    "    return max(letters, key=letters.get)\n",
    "\n",
    "print(frequency(\"milkshake\")) \n",
    "print(frequency(\"abbcccddddeeeeeffff\"))"
   ]
  },
  {
   "cell_type": "markdown",
   "metadata": {},
   "source": [
    "**Part 3** \n",
    "Checks for frequency of each character in a string and returns them"
   ]
  },
  {
   "cell_type": "code",
   "execution_count": 4,
   "metadata": {},
   "outputs": [
    {
     "name": "stdout",
     "output_type": "stream",
     "text": [
      "4.0\n"
     ]
    }
   ],
   "source": [
    "import math\n",
    "\n",
    "print(math.sqrt(16)) "
   ]
  },
  {
   "cell_type": "markdown",
   "metadata": {},
   "source": [
    "**Part 4**\n",
    "Imported Math module\n",
    "used module to take the square root of 16 and return it"
   ]
  }
 ],
 "metadata": {
  "kernelspec": {
   "display_name": "base",
   "language": "python",
   "name": "python3"
  },
  "language_info": {
   "codemirror_mode": {
    "name": "ipython",
    "version": 3
   },
   "file_extension": ".py",
   "mimetype": "text/x-python",
   "name": "python",
   "nbconvert_exporter": "python",
   "pygments_lexer": "ipython3",
   "version": "3.12.6"
  }
 },
 "nbformat": 4,
 "nbformat_minor": 2
}
