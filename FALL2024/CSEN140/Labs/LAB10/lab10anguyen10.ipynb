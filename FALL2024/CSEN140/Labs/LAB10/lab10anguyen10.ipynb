{
 "cells": [
  {
   "cell_type": "markdown",
   "metadata": {},
   "source": [
    "# Lab 10 Austin Nguyen\n",
    "\n",
    "Editing lab10_base.ipynb (given by Dr. Fang) to increase the Test Accuracy.\n",
    "\n",
    "December 6th, 2024"
   ]
  },
  {
   "cell_type": "code",
   "execution_count": 126,
   "metadata": {
    "id": "aI_HNC44m9it"
   },
   "outputs": [],
   "source": [
    "import torch\n",
    "import torch.nn as nn\n",
    "import torch.optim as optim\n",
    "from torchvision import datasets, transforms\n",
    "from torch.utils.data import DataLoader, random_split"
   ]
  },
  {
   "cell_type": "code",
   "execution_count": 127,
   "metadata": {},
   "outputs": [],
   "source": [
    "# Set random seed for reproducibility (your choice)\n",
    "gen = torch.manual_seed(42)"
   ]
  },
  {
   "cell_type": "code",
   "execution_count": 128,
   "metadata": {
    "id": "6KVu3sAFDFWq"
   },
   "outputs": [],
   "source": [
    "# Load MNIST dataset\n",
    "transform = transforms.Compose([transforms.ToTensor(), transforms.Normalize((0.5,), (0.5,))])\n",
    "mnist_dataset = datasets.MNIST(root='./data', train=True, download=True, transform=transform)\n",
    "test_dataset = datasets.MNIST(root='./data', train=False, download=True, transform=transform)\n",
    "\n",
    "# Splitting dataset into train and validation sets\n",
    "train_dataset, val_dataset = random_split(mnist_dataset, [55000, 5000])\n",
    "\n",
    "train_loader = DataLoader(train_dataset, batch_size=32, shuffle=True)\n",
    "val_loader = DataLoader(val_dataset, batch_size=32, shuffle=False)\n",
    "test_loader = DataLoader(test_dataset, batch_size=32, shuffle=False)"
   ]
  },
  {
   "cell_type": "code",
   "execution_count": 129,
   "metadata": {
    "id": "GArcUe9ZDELB"
   },
   "outputs": [],
   "source": [
    "class Classifier(nn.Module):\n",
    "    def __init__(self):\n",
    "        super(Classifier, self).__init__()\n",
    "        self.flatten = nn.Flatten()\n",
    "        self.fc1 = nn.Linear(28 * 28, 128)\n",
    "        self.relu = nn.ReLU()\n",
    "        self.fc2 = nn.Linear(128, 10)\n",
    "\n",
    "    def forward(self, x):\n",
    "        x = self.flatten(x)\n",
    "        x = self.fc1(x)\n",
    "        x = self.relu(x)\n",
    "        x = self.fc2(x)\n",
    "        return x\n",
    "    \n"
   ]
  },
  {
   "cell_type": "code",
   "execution_count": 130,
   "metadata": {
    "colab": {
     "base_uri": "https://localhost:8080/"
    },
    "id": "LJkMY_5Um-7C",
    "outputId": "2570b34b-fe05-462c-e2f6-4bcb2dbb7717"
   },
   "outputs": [
    {
     "name": "stdout",
     "output_type": "stream",
     "text": [
      "Epoch [1/15], Training Loss: 0.8384, Validation Loss: 0.7166, Validation Accuracy: 93.50%\n",
      "Epoch [2/15], Training Loss: 0.6829, Validation Loss: 0.6651, Validation Accuracy: 95.04%\n",
      "Epoch [3/15], Training Loss: 0.6445, Validation Loss: 0.6542, Validation Accuracy: 95.90%\n",
      "Epoch [4/15], Training Loss: 0.6270, Validation Loss: 0.6341, Validation Accuracy: 96.66%\n",
      "Epoch [5/15], Training Loss: 0.6152, Validation Loss: 0.6253, Validation Accuracy: 96.90%\n",
      "Epoch [6/15], Training Loss: 0.6074, Validation Loss: 0.6167, Validation Accuracy: 97.08%\n",
      "Epoch [7/15], Training Loss: 0.6009, Validation Loss: 0.6089, Validation Accuracy: 97.30%\n",
      "Epoch [8/15], Training Loss: 0.5968, Validation Loss: 0.6184, Validation Accuracy: 97.18%\n",
      "Epoch [9/15], Training Loss: 0.5919, Validation Loss: 0.6091, Validation Accuracy: 97.26%\n",
      "Epoch [10/15], Training Loss: 0.5880, Validation Loss: 0.6079, Validation Accuracy: 97.52%\n",
      "Epoch [11/15], Training Loss: 0.5865, Validation Loss: 0.6087, Validation Accuracy: 97.54%\n",
      "Epoch [12/15], Training Loss: 0.5838, Validation Loss: 0.6051, Validation Accuracy: 97.52%\n",
      "Epoch [13/15], Training Loss: 0.5812, Validation Loss: 0.6134, Validation Accuracy: 97.40%\n",
      "Epoch [14/15], Training Loss: 0.5797, Validation Loss: 0.6033, Validation Accuracy: 97.66%\n",
      "Epoch [15/15], Training Loss: 0.5771, Validation Loss: 0.6013, Validation Accuracy: 97.40%\n"
     ]
    }
   ],
   "source": [
    "# Initialize the model, loss function, and optimizer\n",
    "model = Classifier()\n",
    "criterion = nn.CrossEntropyLoss(label_smoothing=0.1)    # Label smoothing regularization\n",
    "optimizer = optim.Adam(model.parameters(), lr=0.0005)   # Changed Learning Rate to 0.0005\n",
    "\n",
    "# Training loop\n",
    "num_epochs = 15\n",
    "for epoch in range(num_epochs):\n",
    "    model.train()\n",
    "    running_loss = 0.0\n",
    "    for batch_idx, (data, target) in enumerate(train_loader):\n",
    "        optimizer.zero_grad()\n",
    "        output = model(data)\n",
    "        loss = criterion(output, target)\n",
    "        loss.backward()\n",
    "        optimizer.step()\n",
    "        running_loss += loss.item()\n",
    "\n",
    "    # Calculate validation loss\n",
    "    model.eval()\n",
    "    val_loss = 0.0\n",
    "    correct = 0\n",
    "    total = 0\n",
    "    with torch.no_grad():\n",
    "        for data, target in val_loader:\n",
    "            output = model(data)\n",
    "            val_loss += criterion(output, target).item()\n",
    "            _, predicted = torch.max(output.data, 1)\n",
    "            total += target.size(0)\n",
    "            correct += (predicted == target).sum().item()\n",
    "\n",
    "    val_loss /= len(val_loader)\n",
    "    val_accuracy = 100 * correct / total\n",
    "    print(f\"Epoch [{epoch+1}/{num_epochs}], Training Loss: {running_loss / len(train_loader):.4f}, Validation Loss: {val_loss:.4f}, Validation Accuracy: {val_accuracy:.2f}%\")\n"
   ]
  },
  {
   "cell_type": "code",
   "execution_count": 131,
   "metadata": {
    "colab": {
     "base_uri": "https://localhost:8080/"
    },
    "id": "DJeQHRdKBhAs",
    "outputId": "c306572b-a0aa-4b94-cb93-30351841a5a4"
   },
   "outputs": [
    {
     "name": "stdout",
     "output_type": "stream",
     "text": [
      "Test Accuracy: 97.84%\n"
     ]
    }
   ],
   "source": [
    "model.eval()\n",
    "\n",
    "# Evaluate the model on the test set\n",
    "correct = 0\n",
    "total = 0\n",
    "with torch.no_grad():\n",
    "    for data, target in test_loader:\n",
    "        output = model(data)\n",
    "        _, predicted = torch.max(output.data, 1)\n",
    "        total += target.size(0)\n",
    "        correct += (predicted == target).sum().item()\n",
    "\n",
    "test_accuracy = 100 * correct / total\n",
    "print(f\"Test Accuracy: {test_accuracy:.2f}%\")"
   ]
  }
 ],
 "metadata": {
  "colab": {
   "provenance": []
  },
  "kernelspec": {
   "display_name": "csen140",
   "language": "python",
   "name": "python3"
  },
  "language_info": {
   "codemirror_mode": {
    "name": "ipython",
    "version": 3
   },
   "file_extension": ".py",
   "mimetype": "text/x-python",
   "name": "python",
   "nbconvert_exporter": "python",
   "pygments_lexer": "ipython3",
   "version": "3.12.6"
  }
 },
 "nbformat": 4,
 "nbformat_minor": 0
}
