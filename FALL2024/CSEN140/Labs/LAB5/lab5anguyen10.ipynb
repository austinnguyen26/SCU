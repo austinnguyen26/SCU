{
 "cells": [
  {
   "cell_type": "markdown",
   "metadata": {},
   "source": [
    "## Lab5 Linear Regression and Ridge Regression\n",
    "\n",
    "Austin Nguyen \n",
    "\n",
    "Friday 2:15 - 5:00 PM \n",
    "\n",
    "October 25, 2024\n"
   ]
  },
  {
   "cell_type": "code",
   "execution_count": 1,
   "metadata": {},
   "outputs": [
    {
     "name": "stdout",
     "output_type": "stream",
     "text": [
      "Linear Regression RMSE (Train): 0.12768967421762195\n",
      "Linear Regression RMSE (Test): 0.1458346449094935\n",
      "Ridge Regression RMSE (Train): 0.13134320424615797\n",
      "Ridge Regression RMSE (Test): 0.14765698468526112\n"
     ]
    }
   ],
   "source": [
    "import numpy as np\n",
    "\n",
    "# Function to load data\n",
    "def load_data(train_file, test_file):\n",
    "    # Load data from text files, skipping the header row and using tab as incrementer\n",
    "    train_data = np.loadtxt(train_file, delimiter='\\t', skiprows=1)\n",
    "    test_data = np.loadtxt(test_file, delimiter='\\t', skiprows=1)\n",
    "    \n",
    "    # response variable (first column) features (remaining columns)\n",
    "    y_train = train_data[:, 0]  \n",
    "    X_train = train_data[:, 1:]  \n",
    "    \n",
    "    y_test = test_data[:, 0]  \n",
    "    X_test = test_data[:, 1:] \n",
    "    \n",
    "    # 95 + 1 term for bias \n",
    "    X_train = np.hstack([np.ones((X_train.shape[0], 1)), X_train])\n",
    "    X_test = np.hstack([np.ones((X_test.shape[0], 1)), X_test])\n",
    "    \n",
    "    return X_train, y_train, X_test, y_test\n",
    "\n",
    "# Linear Regression Implementation\n",
    "def linear_regression(X_train, y_train):\n",
    "    # w = (X^T * X)^-1 * X^T * y\n",
    "    w = np.linalg.inv(X_train.T @ X_train) @ X_train.T @ y_train\n",
    "    return w\n",
    "\n",
    "# Ridge Regression Implementation\n",
    "def ridge_regression(X_train, y_train, lambd):\n",
    "    # w = (X^T * X + lambda * I)^-1 * X^T * y\n",
    "    P = X_train.shape[1]\n",
    "    identity_matrix = np.eye(P)\n",
    "    w = np.linalg.inv(X_train.T @ X_train + lambd * identity_matrix) @ X_train.T @ y_train\n",
    "    return w\n",
    "\n",
    "# Function to make predictions using linear regression weights\n",
    "def problem1(samples):\n",
    "    return np.dot(samples, w_linear)\n",
    "\n",
    "# Function to make predictions using ridge regression weights\n",
    "def problem2(samples):\n",
    "    return np.dot(samples, w_ridge)\n",
    "\n",
    "# RMSE Calculation\n",
    "def rmse(y_true, y_pred):\n",
    "    return np.sqrt(np.mean((y_true - y_pred) ** 2))\n",
    "\n",
    "# load data\n",
    "train_file = 'crime-train.txt'\n",
    "test_file = 'crime-test.txt'\n",
    "\n",
    "# train models\n",
    "X_train, y_train, X_test, y_test = load_data(train_file, test_file)\n",
    "\n",
    "# Linear Regression\n",
    "w_linear = linear_regression(X_train, y_train)\n",
    "y_train_pred_linear = problem1(X_train)\n",
    "y_test_pred_linear = problem1(X_test)\n",
    "\n",
    "# Ridge Regression (lambda defined as 100)\n",
    "lambd = 100\n",
    "w_ridge = ridge_regression(X_train, y_train, lambd)\n",
    "y_train_pred_ridge = problem2(X_train)\n",
    "y_test_pred_ridge = problem2(X_test)\n",
    "\n",
    "# Compute RMSE for Linear Regression\n",
    "rmse_train_linear = rmse(y_train, y_train_pred_linear)\n",
    "rmse_test_linear = rmse(y_test, y_test_pred_linear)\n",
    "\n",
    "# Compute RMSE for Ridge Regression\n",
    "rmse_train_ridge = rmse(y_train, y_train_pred_ridge)\n",
    "rmse_test_ridge = rmse(y_test, y_test_pred_ridge)\n",
    "\n",
    "# Report the RMSE values\n",
    "print(f'Linear Regression RMSE (Train): {rmse_train_linear}')\n",
    "print(f'Linear Regression RMSE (Test): {rmse_test_linear}')\n",
    "print(f'Ridge Regression RMSE (Train): {rmse_train_ridge}')\n",
    "print(f'Ridge Regression RMSE (Test): {rmse_test_ridge}')\n"
   ]
  },
  {
   "cell_type": "markdown",
   "metadata": {},
   "source": [
    "## Training And Testing Results:\n",
    "\n",
    "Linear Regression RMSE (Train): 0.12768967421762195\n",
    "\n",
    "Linear Regression RMSE (Test): 0.1458346449094935\n",
    "\n",
    "Ridge Regression RMSE (Train): 0.13134320424615797\n",
    "\n",
    "Ridge Regression RMSE (Test): 0.14765698468526112"
   ]
  }
 ],
 "metadata": {
  "kernelspec": {
   "display_name": "base",
   "language": "python",
   "name": "python3"
  },
  "language_info": {
   "codemirror_mode": {
    "name": "ipython",
    "version": 3
   },
   "file_extension": ".py",
   "mimetype": "text/x-python",
   "name": "python",
   "nbconvert_exporter": "python",
   "pygments_lexer": "ipython3",
   "version": "3.12.4"
  }
 },
 "nbformat": 4,
 "nbformat_minor": 2
}
