{
 "cells": [
  {
   "cell_type": "markdown",
   "metadata": {},
   "source": [
    "# Lab 7 Austin Nguyen\n",
    "\n",
    "November 8, 2024"
   ]
  },
  {
   "cell_type": "code",
   "execution_count": 11,
   "metadata": {},
   "outputs": [
    {
     "name": "stdout",
     "output_type": "stream",
     "text": [
      "Converged in 134827 iterations.\n",
      "Training Accuracy: 92.56%\n",
      "Test Accuracy: 93.16%\n"
     ]
    }
   ],
   "source": [
    "import numpy as np\n",
    "\n",
    "# Load data\n",
    "train_data = np.genfromtxt('spam-train.csv', delimiter=',')\n",
    "test_data = np.genfromtxt('spam-test.csv', delimiter=',')\n",
    "\n",
    "# Separate features and labels\n",
    "X_train = train_data[:, :-1]  # All feature columns\n",
    "y_train = train_data[:, -1]   # Last column is the label\n",
    "X_test = test_data[:, :-1]\n",
    "y_test = test_data[:, -1]\n",
    "\n",
    "# Normalize the features with Z-score normalization based on training data\n",
    "mean = X_train.mean(axis=0)\n",
    "std = X_train.std(axis=0)\n",
    "X_train = (X_train - mean) / std\n",
    "X_test = (X_test - mean) / std\n",
    "\n",
    "# Add a bias term (column of ones) \n",
    "X_train = np.hstack([np.ones((X_train.shape[0], 1)), X_train])\n",
    "X_test = np.hstack([np.ones((X_test.shape[0], 1)), X_test])\n",
    "\n",
    "# Sigmoid function\n",
    "def sigmoid(z):\n",
    "    return 1 / (1 + np.exp(-z))\n",
    "\n",
    "# Initial weights\n",
    "r = np.random.default_rng(22)\n",
    "w = r.normal(size=(X_train.shape[1]))\n",
    "\n",
    "# Gradient descent parameters\n",
    "alpha = 0.001\n",
    "tolerance = 1e-5  \n",
    "\n",
    "converged = False\n",
    "iterations = 0\n",
    "\n",
    "while not converged:\n",
    "    # Calculate predictions\n",
    "    z = np.dot(X_train, w)\n",
    "    predictions = sigmoid(z)\n",
    "    \n",
    "    # Compute gradient\n",
    "    gradient = np.dot(X_train.T, predictions - y_train) / len(y_train)\n",
    "    \n",
    "    # Update weights\n",
    "    w -= alpha * gradient\n",
    "    \n",
    "    # Check for convergence\n",
    "    if np.linalg.norm(alpha * gradient) < tolerance:\n",
    "        converged = True\n",
    "    \n",
    "    iterations += 1\n",
    "\n",
    "print(f'Converged in {iterations} iterations.')\n",
    "\n",
    "# Prediction function\n",
    "def predict(X, w):\n",
    "    return sigmoid(np.dot(X, w)) >= 0.5\n",
    "\n",
    "# Training accuracy\n",
    "train_predictions = predict(X_train, w)\n",
    "train_accuracy = np.mean(train_predictions == y_train)\n",
    "print(f'Training Accuracy: {train_accuracy * 100:.2f}%')\n",
    "\n",
    "# Test accuracy\n",
    "test_predictions = predict(X_test, w)\n",
    "test_accuracy = np.mean(test_predictions == y_test)\n",
    "print(f'Test Accuracy: {test_accuracy * 100:.2f}%')\n"
   ]
  }
 ],
 "metadata": {
  "kernelspec": {
   "display_name": "base",
   "language": "python",
   "name": "python3"
  },
  "language_info": {
   "codemirror_mode": {
    "name": "ipython",
    "version": 3
   },
   "file_extension": ".py",
   "mimetype": "text/x-python",
   "name": "python",
   "nbconvert_exporter": "python",
   "pygments_lexer": "ipython3",
   "version": "3.12.4"
  }
 },
 "nbformat": 4,
 "nbformat_minor": 2
}
